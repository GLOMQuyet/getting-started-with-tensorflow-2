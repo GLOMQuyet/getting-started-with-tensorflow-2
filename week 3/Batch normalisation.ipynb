{
 "cells": [
  {
   "cell_type": "markdown",
   "metadata": {},
   "source": [
    "# Batch normalisation layers\n",
    "\n",
    "In this reading we will look at incorporating batch normalisation into our models and look at an example of how we do this in practice.\n",
    "\n",
    "As usual, let's first import tensorflow."
   ]
  },
  {
   "cell_type": "code",
   "execution_count": 1,
   "metadata": {},
   "outputs": [
    {
     "name": "stdout",
     "output_type": "stream",
     "text": [
      "2.0.0\n"
     ]
    }
   ],
   "source": [
    "import tensorflow as tf\n",
    "print(tf.__version__)"
   ]
  },
  {
   "cell_type": "markdown",
   "metadata": {},
   "source": [
    "We will be working with the diabetes dataset that we have been using in this week's screencasts. \n",
    "\n",
    "Let's load and pre-process the dataset."
   ]
  },
  {
   "cell_type": "code",
   "execution_count": 2,
   "metadata": {},
   "outputs": [],
   "source": [
    "# Load the dataset\n",
    "\n",
    "from sklearn.datasets import load_diabetes\n",
    "diabetes_dataset = load_diabetes()"
   ]
  },
  {
   "cell_type": "code",
   "execution_count": 3,
   "metadata": {},
   "outputs": [],
   "source": [
    "# Save the input and target variables\n",
    "\n",
    "from sklearn.model_selection import train_test_split\n",
    "\n",
    "data = diabetes_dataset['data']\n",
    "targets = diabetes_dataset['target']"
   ]
  },
  {
   "cell_type": "code",
   "execution_count": 4,
   "metadata": {},
   "outputs": [],
   "source": [
    "# Normalise the target data (this will make clearer training curves)\n",
    "\n",
    "targets = (targets - targets.mean(axis=0)) / (targets.std())"
   ]
  },
  {
   "cell_type": "code",
   "execution_count": 5,
   "metadata": {},
   "outputs": [],
   "source": [
    "# Split the dataset into training and test datasets \n",
    "\n",
    "train_data, test_data, train_targets, test_targets = train_test_split(data, targets, test_size=0.1)"
   ]
  },
  {
   "cell_type": "markdown",
   "metadata": {},
   "source": [
    "### Batch normalisation - defining the model"
   ]
  },
  {
   "cell_type": "markdown",
   "metadata": {},
   "source": [
    "We can implement batch normalisation into our model by adding it in the same way as any other layer."
   ]
  },
  {
   "cell_type": "code",
   "execution_count": 6,
   "metadata": {},
   "outputs": [],
   "source": [
    "from tensorflow.keras.models import Sequential\n",
    "from tensorflow.keras.layers import Flatten, Dense, Conv2D, MaxPooling2D, BatchNormalization, Dropout"
   ]
  },
  {
   "cell_type": "code",
   "execution_count": 7,
   "metadata": {},
   "outputs": [],
   "source": [
    "# Build the model\n",
    "\n",
    "model = Sequential([\n",
    "    Dense(64, input_shape=[train_data.shape[1],], activation=\"relu\"),\n",
    "    BatchNormalization(),  # <- Batch normalisation layer\n",
    "    Dropout(0.5),\n",
    "    BatchNormalization(),  # <- Batch normalisation layer\n",
    "    Dropout(0.5),\n",
    "    Dense(256, activation='relu'),\n",
    "])\n",
    "\n",
    "# NB: We have not added the output layer because we still have more layers to add!"
   ]
  },
  {
   "cell_type": "code",
   "execution_count": 8,
   "metadata": {
    "scrolled": true
   },
   "outputs": [
    {
     "name": "stdout",
     "output_type": "stream",
     "text": [
      "Model: \"sequential\"\n",
      "_________________________________________________________________\n",
      "Layer (type)                 Output Shape              Param #   \n",
      "=================================================================\n",
      "dense (Dense)                (None, 64)                704       \n",
      "_________________________________________________________________\n",
      "batch_normalization (BatchNo (None, 64)                256       \n",
      "_________________________________________________________________\n",
      "dropout (Dropout)            (None, 64)                0         \n",
      "_________________________________________________________________\n",
      "batch_normalization_1 (Batch (None, 64)                256       \n",
      "_________________________________________________________________\n",
      "dropout_1 (Dropout)          (None, 64)                0         \n",
      "_________________________________________________________________\n",
      "dense_1 (Dense)              (None, 256)               16640     \n",
      "=================================================================\n",
      "Total params: 17,856\n",
      "Trainable params: 17,600\n",
      "Non-trainable params: 256\n",
      "_________________________________________________________________\n"
     ]
    }
   ],
   "source": [
    "# Print the model summary\n",
    "\n",
    "model.summary()"
   ]
  },
  {
   "cell_type": "markdown",
   "metadata": {},
   "source": [
    "Recall that there are some parameters and hyperparameters associated with batch normalisation.\n",
    "\n",
    "* The hyperparameter **momentum** is the weighting given to the previous running mean when re-computing it with an extra minibatch. By **default**, it is set to 0.99.\n",
    "\n",
    "* The hyperparameter **$\\epsilon$** is used for numeric stability when performing the normalisation over the minibatch. By **default** it is set to 0.001.\n",
    "\n",
    "* The parameters **$\\beta$** and **$\\gamma$** are used to implement an affine transformation after normalisation. By **default**, $\\beta$ is an all-zeros vector, and $\\gamma$ is an all-ones vector.\n",
    "\n",
    "### Customising parameters\n",
    "These can all be changed (along with various other properties) by adding optional arguments to `tf.keras.layers.BatchNormalization()`.\n",
    "\n",
    "We can also specify the axis for batch normalisation. By default, it is set as -1.\n",
    "\n",
    "Let's see an example."
   ]
  },
  {
   "cell_type": "code",
   "execution_count": 9,
   "metadata": {},
   "outputs": [],
   "source": [
    "# Add a customised batch normalisation layer\n",
    "\n",
    "model.add(tf.keras.layers.BatchNormalization(\n",
    "    momentum=0.95, \n",
    "    epsilon=0.005,\n",
    "    axis = -1,\n",
    "    beta_initializer=tf.keras.initializers.RandomNormal(mean=0.0, stddev=0.05), \n",
    "    gamma_initializer=tf.keras.initializers.Constant(value=0.9)\n",
    "))"
   ]
  },
  {
   "cell_type": "code",
   "execution_count": 10,
   "metadata": {},
   "outputs": [],
   "source": [
    "# Add the output layer\n",
    "\n",
    "model.add(Dense(1))"
   ]
  },
  {
   "cell_type": "markdown",
   "metadata": {},
   "source": [
    "## Compile and fit the model"
   ]
  },
  {
   "cell_type": "markdown",
   "metadata": {},
   "source": [
    "Let's now compile and fit our model with batch normalisation, and track the progress on training and validation sets.\n",
    "\n",
    "First we compile our model."
   ]
  },
  {
   "cell_type": "code",
   "execution_count": 11,
   "metadata": {},
   "outputs": [],
   "source": [
    "# Compile the model\n",
    "\n",
    "model.compile(optimizer='adam',\n",
    "              loss='mse',\n",
    "              metrics=['mae'])"
   ]
  },
  {
   "cell_type": "markdown",
   "metadata": {},
   "source": [
    "Now we fit the model to the data."
   ]
  },
  {
   "cell_type": "code",
   "execution_count": 13,
   "metadata": {},
   "outputs": [
    {
     "name": "stdout",
     "output_type": "stream",
     "text": [
      "Train on 337 samples, validate on 60 samples\n",
      "Epoch 1/100\n",
      "337/337 [==============================] - 0s 321us/sample - loss: 0.5344 - mae: 0.5967 - val_loss: 0.6967 - val_mae: 0.6803\n",
      "Epoch 2/100\n",
      "337/337 [==============================] - 0s 328us/sample - loss: 0.5245 - mae: 0.5856 - val_loss: 0.6816 - val_mae: 0.6656\n",
      "Epoch 3/100\n",
      "337/337 [==============================] - 0s 557us/sample - loss: 0.5963 - mae: 0.6295 - val_loss: 0.6769 - val_mae: 0.6601\n",
      "Epoch 4/100\n",
      "337/337 [==============================] - 0s 318us/sample - loss: 0.6009 - mae: 0.6258 - val_loss: 0.6541 - val_mae: 0.6487\n",
      "Epoch 5/100\n",
      "337/337 [==============================] - 0s 531us/sample - loss: 0.6307 - mae: 0.6396 - val_loss: 0.6257 - val_mae: 0.6399\n",
      "Epoch 6/100\n",
      "337/337 [==============================] - 0s 325us/sample - loss: 0.6152 - mae: 0.6468 - val_loss: 0.6196 - val_mae: 0.6400\n",
      "Epoch 7/100\n",
      "337/337 [==============================] - 0s 318us/sample - loss: 0.5800 - mae: 0.6192 - val_loss: 0.6349 - val_mae: 0.6491\n",
      "Epoch 8/100\n",
      "337/337 [==============================] - 0s 562us/sample - loss: 0.5410 - mae: 0.6016 - val_loss: 0.6033 - val_mae: 0.6324\n",
      "Epoch 9/100\n",
      "337/337 [==============================] - 0s 308us/sample - loss: 0.5704 - mae: 0.6186 - val_loss: 0.6026 - val_mae: 0.6319\n",
      "Epoch 10/100\n",
      "337/337 [==============================] - 0s 547us/sample - loss: 0.5814 - mae: 0.6173 - val_loss: 0.6180 - val_mae: 0.6377\n",
      "Epoch 11/100\n",
      "337/337 [==============================] - 0s 348us/sample - loss: 0.5919 - mae: 0.6273 - val_loss: 0.6103 - val_mae: 0.6290\n",
      "Epoch 12/100\n",
      "337/337 [==============================] - 0s 310us/sample - loss: 0.5822 - mae: 0.6105 - val_loss: 0.6147 - val_mae: 0.6322\n",
      "Epoch 13/100\n",
      "337/337 [==============================] - 0s 341us/sample - loss: 0.5629 - mae: 0.6096 - val_loss: 0.6102 - val_mae: 0.6256\n",
      "Epoch 14/100\n",
      "337/337 [==============================] - 0s 331us/sample - loss: 0.5840 - mae: 0.6241 - val_loss: 0.5861 - val_mae: 0.6102\n",
      "Epoch 15/100\n",
      "337/337 [==============================] - 0s 347us/sample - loss: 0.5398 - mae: 0.5960 - val_loss: 0.5957 - val_mae: 0.6113\n",
      "Epoch 16/100\n",
      "337/337 [==============================] - 0s 313us/sample - loss: 0.5096 - mae: 0.5885 - val_loss: 0.6250 - val_mae: 0.6250\n",
      "Epoch 17/100\n",
      "337/337 [==============================] - 0s 556us/sample - loss: 0.5594 - mae: 0.6019 - val_loss: 0.6536 - val_mae: 0.6445\n",
      "Epoch 18/100\n",
      "337/337 [==============================] - 0s 317us/sample - loss: 0.5510 - mae: 0.6068 - val_loss: 0.6642 - val_mae: 0.6492\n",
      "Epoch 19/100\n",
      "337/337 [==============================] - 0s 532us/sample - loss: 0.5441 - mae: 0.5892 - val_loss: 0.6517 - val_mae: 0.6399\n",
      "Epoch 20/100\n",
      "337/337 [==============================] - 0s 335us/sample - loss: 0.5263 - mae: 0.5816 - val_loss: 0.6224 - val_mae: 0.6254\n",
      "Epoch 21/100\n",
      "337/337 [==============================] - 0s 545us/sample - loss: 0.5731 - mae: 0.6001 - val_loss: 0.6119 - val_mae: 0.6288\n",
      "Epoch 22/100\n",
      "337/337 [==============================] - 0s 345us/sample - loss: 0.5349 - mae: 0.5778 - val_loss: 0.6187 - val_mae: 0.6348\n",
      "Epoch 23/100\n",
      "337/337 [==============================] - 0s 537us/sample - loss: 0.5854 - mae: 0.6089 - val_loss: 0.6388 - val_mae: 0.6378\n",
      "Epoch 24/100\n",
      "337/337 [==============================] - 0s 322us/sample - loss: 0.5640 - mae: 0.6079 - val_loss: 0.6368 - val_mae: 0.6360\n",
      "Epoch 25/100\n",
      "337/337 [==============================] - 0s 557us/sample - loss: 0.5238 - mae: 0.5831 - val_loss: 0.6163 - val_mae: 0.6269\n",
      "Epoch 26/100\n",
      "337/337 [==============================] - 0s 341us/sample - loss: 0.5131 - mae: 0.5744 - val_loss: 0.5969 - val_mae: 0.6168\n",
      "Epoch 27/100\n",
      "337/337 [==============================] - 0s 537us/sample - loss: 0.5391 - mae: 0.6027 - val_loss: 0.5955 - val_mae: 0.6171\n",
      "Epoch 28/100\n",
      "337/337 [==============================] - 0s 332us/sample - loss: 0.5356 - mae: 0.5985 - val_loss: 0.5959 - val_mae: 0.6112\n",
      "Epoch 29/100\n",
      "337/337 [==============================] - 0s 328us/sample - loss: 0.5859 - mae: 0.6218 - val_loss: 0.6031 - val_mae: 0.6149\n",
      "Epoch 30/100\n",
      "337/337 [==============================] - 0s 314us/sample - loss: 0.5379 - mae: 0.5890 - val_loss: 0.6210 - val_mae: 0.6287\n",
      "Epoch 31/100\n",
      "337/337 [==============================] - 0s 324us/sample - loss: 0.5259 - mae: 0.5946 - val_loss: 0.6201 - val_mae: 0.6297\n",
      "Epoch 32/100\n",
      "337/337 [==============================] - 0s 551us/sample - loss: 0.5281 - mae: 0.5918 - val_loss: 0.6037 - val_mae: 0.6133\n",
      "Epoch 33/100\n",
      "337/337 [==============================] - 0s 332us/sample - loss: 0.5628 - mae: 0.5918 - val_loss: 0.5855 - val_mae: 0.6035\n",
      "Epoch 34/100\n",
      "337/337 [==============================] - 0s 540us/sample - loss: 0.4598 - mae: 0.5398 - val_loss: 0.5668 - val_mae: 0.5967\n",
      "Epoch 35/100\n",
      "337/337 [==============================] - 0s 344us/sample - loss: 0.5404 - mae: 0.5799 - val_loss: 0.5603 - val_mae: 0.5935\n",
      "Epoch 36/100\n",
      "337/337 [==============================] - 0s 315us/sample - loss: 0.4993 - mae: 0.5781 - val_loss: 0.5817 - val_mae: 0.6087\n",
      "Epoch 37/100\n",
      "337/337 [==============================] - 0s 346us/sample - loss: 0.5075 - mae: 0.5770 - val_loss: 0.6247 - val_mae: 0.6300\n",
      "Epoch 38/100\n",
      "337/337 [==============================] - 0s 319us/sample - loss: 0.5580 - mae: 0.6183 - val_loss: 0.6496 - val_mae: 0.6364\n",
      "Epoch 39/100\n",
      "337/337 [==============================] - 0s 562us/sample - loss: 0.5663 - mae: 0.6030 - val_loss: 0.6260 - val_mae: 0.6219\n",
      "Epoch 40/100\n",
      "337/337 [==============================] - 0s 315us/sample - loss: 0.5565 - mae: 0.6140 - val_loss: 0.6083 - val_mae: 0.6136\n",
      "Epoch 41/100\n",
      "337/337 [==============================] - 0s 579us/sample - loss: 0.5090 - mae: 0.5769 - val_loss: 0.6046 - val_mae: 0.6111\n",
      "Epoch 42/100\n",
      "337/337 [==============================] - 0s 306us/sample - loss: 0.5246 - mae: 0.5791 - val_loss: 0.5915 - val_mae: 0.6125\n",
      "Epoch 43/100\n",
      "337/337 [==============================] - 0s 336us/sample - loss: 0.5181 - mae: 0.5915 - val_loss: 0.5777 - val_mae: 0.6088\n",
      "Epoch 44/100\n",
      "337/337 [==============================] - 0s 556us/sample - loss: 0.5560 - mae: 0.6060 - val_loss: 0.5628 - val_mae: 0.6011\n",
      "Epoch 45/100\n",
      "337/337 [==============================] - 0s 339us/sample - loss: 0.5269 - mae: 0.5847 - val_loss: 0.5567 - val_mae: 0.5975\n",
      "Epoch 46/100\n",
      "337/337 [==============================] - 0s 541us/sample - loss: 0.5338 - mae: 0.5859 - val_loss: 0.5649 - val_mae: 0.6016\n",
      "Epoch 47/100\n",
      "337/337 [==============================] - 0s 354us/sample - loss: 0.5437 - mae: 0.5927 - val_loss: 0.5808 - val_mae: 0.6108\n",
      "Epoch 48/100\n",
      "337/337 [==============================] - 0s 532us/sample - loss: 0.5080 - mae: 0.5747 - val_loss: 0.5828 - val_mae: 0.6167\n",
      "Epoch 49/100\n",
      "337/337 [==============================] - 0s 351us/sample - loss: 0.5635 - mae: 0.6034 - val_loss: 0.5772 - val_mae: 0.6189\n",
      "Epoch 50/100\n",
      "337/337 [==============================] - 0s 544us/sample - loss: 0.5425 - mae: 0.5931 - val_loss: 0.5742 - val_mae: 0.6203\n",
      "Epoch 51/100\n",
      "337/337 [==============================] - 0s 345us/sample - loss: 0.5171 - mae: 0.5750 - val_loss: 0.5743 - val_mae: 0.6196\n",
      "Epoch 52/100\n",
      "337/337 [==============================] - 0s 553us/sample - loss: 0.5249 - mae: 0.5808 - val_loss: 0.5702 - val_mae: 0.6098\n",
      "Epoch 53/100\n",
      "337/337 [==============================] - 0s 317us/sample - loss: 0.5259 - mae: 0.5832 - val_loss: 0.5762 - val_mae: 0.6095\n",
      "Epoch 54/100\n",
      "337/337 [==============================] - 0s 556us/sample - loss: 0.5282 - mae: 0.5834 - val_loss: 0.5715 - val_mae: 0.6067\n",
      "Epoch 55/100\n",
      "337/337 [==============================] - 0s 335us/sample - loss: 0.5753 - mae: 0.6184 - val_loss: 0.5907 - val_mae: 0.6121\n",
      "Epoch 56/100\n",
      "337/337 [==============================] - 0s 540us/sample - loss: 0.5513 - mae: 0.5973 - val_loss: 0.5768 - val_mae: 0.6066\n",
      "Epoch 57/100\n",
      "337/337 [==============================] - 0s 339us/sample - loss: 0.5313 - mae: 0.5971 - val_loss: 0.5628 - val_mae: 0.5994\n",
      "Epoch 58/100\n",
      "337/337 [==============================] - 0s 306us/sample - loss: 0.5663 - mae: 0.6049 - val_loss: 0.5526 - val_mae: 0.5992\n",
      "Epoch 59/100\n",
      "337/337 [==============================] - 0s 565us/sample - loss: 0.5208 - mae: 0.5893 - val_loss: 0.5538 - val_mae: 0.5996\n",
      "Epoch 60/100\n",
      "337/337 [==============================] - 0s 324us/sample - loss: 0.5065 - mae: 0.5640 - val_loss: 0.5549 - val_mae: 0.5971\n",
      "Epoch 61/100\n",
      "337/337 [==============================] - 0s 559us/sample - loss: 0.4859 - mae: 0.5694 - val_loss: 0.5552 - val_mae: 0.5997\n",
      "Epoch 62/100\n",
      "337/337 [==============================] - 0s 320us/sample - loss: 0.5261 - mae: 0.5865 - val_loss: 0.5651 - val_mae: 0.6096\n",
      "Epoch 63/100\n",
      "337/337 [==============================] - 0s 544us/sample - loss: 0.5136 - mae: 0.5756 - val_loss: 0.5844 - val_mae: 0.6193\n",
      "Epoch 64/100\n",
      "337/337 [==============================] - 0s 318us/sample - loss: 0.5472 - mae: 0.5981 - val_loss: 0.5861 - val_mae: 0.6144\n",
      "Epoch 65/100\n",
      "337/337 [==============================] - 0s 316us/sample - loss: 0.5317 - mae: 0.5902 - val_loss: 0.5850 - val_mae: 0.6077\n",
      "Epoch 66/100\n",
      "337/337 [==============================] - 0s 333us/sample - loss: 0.4967 - mae: 0.5706 - val_loss: 0.5938 - val_mae: 0.6083\n",
      "Epoch 67/100\n",
      "337/337 [==============================] - 0s 325us/sample - loss: 0.5250 - mae: 0.5908 - val_loss: 0.5868 - val_mae: 0.6066\n",
      "Epoch 68/100\n",
      "337/337 [==============================] - 0s 336us/sample - loss: 0.4716 - mae: 0.5553 - val_loss: 0.5886 - val_mae: 0.6163\n",
      "Epoch 69/100\n",
      "337/337 [==============================] - 0s 315us/sample - loss: 0.5318 - mae: 0.5981 - val_loss: 0.5833 - val_mae: 0.6162\n",
      "Epoch 70/100\n",
      "337/337 [==============================] - 0s 534us/sample - loss: 0.5397 - mae: 0.5972 - val_loss: 0.5786 - val_mae: 0.6154\n",
      "Epoch 71/100\n",
      "337/337 [==============================] - 0s 349us/sample - loss: 0.5295 - mae: 0.5926 - val_loss: 0.5731 - val_mae: 0.6163\n",
      "Epoch 72/100\n",
      "337/337 [==============================] - 0s 314us/sample - loss: 0.4736 - mae: 0.5530 - val_loss: 0.5750 - val_mae: 0.6170\n",
      "Epoch 73/100\n",
      "337/337 [==============================] - 0s 342us/sample - loss: 0.5100 - mae: 0.5707 - val_loss: 0.5745 - val_mae: 0.6137\n",
      "Epoch 74/100\n",
      "337/337 [==============================] - 0s 297us/sample - loss: 0.5086 - mae: 0.5741 - val_loss: 0.5680 - val_mae: 0.6045\n",
      "Epoch 75/100\n",
      "337/337 [==============================] - 0s 555us/sample - loss: 0.4964 - mae: 0.5653 - val_loss: 0.5747 - val_mae: 0.6017\n",
      "Epoch 76/100\n",
      "337/337 [==============================] - 0s 336us/sample - loss: 0.5503 - mae: 0.5987 - val_loss: 0.5632 - val_mae: 0.5991\n",
      "Epoch 77/100\n",
      "337/337 [==============================] - 0s 309us/sample - loss: 0.4502 - mae: 0.5398 - val_loss: 0.5666 - val_mae: 0.6090\n",
      "Epoch 78/100\n",
      "337/337 [==============================] - 0s 338us/sample - loss: 0.5259 - mae: 0.5819 - val_loss: 0.5754 - val_mae: 0.6158\n",
      "Epoch 79/100\n",
      "337/337 [==============================] - 0s 331us/sample - loss: 0.5076 - mae: 0.5739 - val_loss: 0.5854 - val_mae: 0.6186\n",
      "Epoch 80/100\n",
      "337/337 [==============================] - 0s 538us/sample - loss: 0.5671 - mae: 0.5980 - val_loss: 0.5847 - val_mae: 0.6157\n",
      "Epoch 81/100\n",
      "337/337 [==============================] - 0s 327us/sample - loss: 0.4944 - mae: 0.5693 - val_loss: 0.5830 - val_mae: 0.6113\n",
      "Epoch 82/100\n",
      "337/337 [==============================] - 0s 540us/sample - loss: 0.5319 - mae: 0.5898 - val_loss: 0.5887 - val_mae: 0.6150\n",
      "Epoch 83/100\n",
      "337/337 [==============================] - 0s 327us/sample - loss: 0.5152 - mae: 0.5845 - val_loss: 0.5875 - val_mae: 0.6141\n",
      "Epoch 84/100\n",
      "337/337 [==============================] - 0s 332us/sample - loss: 0.5288 - mae: 0.5852 - val_loss: 0.5942 - val_mae: 0.6090\n",
      "Epoch 85/100\n",
      "337/337 [==============================] - 0s 550us/sample - loss: 0.5589 - mae: 0.5922 - val_loss: 0.6180 - val_mae: 0.6178\n",
      "Epoch 86/100\n",
      "337/337 [==============================] - 0s 313us/sample - loss: 0.5149 - mae: 0.5934 - val_loss: 0.6018 - val_mae: 0.6138\n",
      "Epoch 87/100\n",
      "337/337 [==============================] - 0s 549us/sample - loss: 0.5047 - mae: 0.5887 - val_loss: 0.5928 - val_mae: 0.6110\n",
      "Epoch 88/100\n",
      "337/337 [==============================] - 0s 334us/sample - loss: 0.5433 - mae: 0.5886 - val_loss: 0.5796 - val_mae: 0.6071\n",
      "Epoch 89/100\n",
      "337/337 [==============================] - 0s 308us/sample - loss: 0.5113 - mae: 0.5857 - val_loss: 0.5806 - val_mae: 0.6136\n",
      "Epoch 90/100\n",
      "337/337 [==============================] - 0s 553us/sample - loss: 0.5704 - mae: 0.6110 - val_loss: 0.5719 - val_mae: 0.6144\n",
      "Epoch 91/100\n",
      "337/337 [==============================] - 0s 325us/sample - loss: 0.5296 - mae: 0.5908 - val_loss: 0.5578 - val_mae: 0.6022\n",
      "Epoch 92/100\n",
      "337/337 [==============================] - 0s 553us/sample - loss: 0.5005 - mae: 0.5748 - val_loss: 0.5523 - val_mae: 0.6011\n",
      "Epoch 93/100\n",
      "337/337 [==============================] - 0s 315us/sample - loss: 0.5250 - mae: 0.5839 - val_loss: 0.5573 - val_mae: 0.6064\n",
      "Epoch 94/100\n",
      "337/337 [==============================] - 0s 318us/sample - loss: 0.5400 - mae: 0.5775 - val_loss: 0.5672 - val_mae: 0.6123\n",
      "Epoch 95/100\n",
      "337/337 [==============================] - 0s 347us/sample - loss: 0.5466 - mae: 0.5956 - val_loss: 0.5759 - val_mae: 0.6159\n",
      "Epoch 96/100\n",
      "337/337 [==============================] - 0s 316us/sample - loss: 0.5428 - mae: 0.5990 - val_loss: 0.5769 - val_mae: 0.6171\n",
      "Epoch 97/100\n",
      "337/337 [==============================] - 0s 353us/sample - loss: 0.5262 - mae: 0.5935 - val_loss: 0.5694 - val_mae: 0.6114\n",
      "Epoch 98/100\n",
      "337/337 [==============================] - 0s 318us/sample - loss: 0.4866 - mae: 0.5747 - val_loss: 0.5599 - val_mae: 0.6069\n",
      "Epoch 99/100\n",
      "337/337 [==============================] - 0s 357us/sample - loss: 0.5023 - mae: 0.5704 - val_loss: 0.5631 - val_mae: 0.6106\n",
      "Epoch 100/100\n",
      "337/337 [==============================] - 0s 571us/sample - loss: 0.5468 - mae: 0.5983 - val_loss: 0.5614 - val_mae: 0.6129\n"
     ]
    }
   ],
   "source": [
    "# Train the model\n",
    "\n",
    "history = model.fit(train_data, train_targets, epochs=100, validation_split=0.15, batch_size=64,verbose=1)"
   ]
  },
  {
   "cell_type": "markdown",
   "metadata": {},
   "source": [
    "Finally, we plot training and validation loss and accuracy to observe how the accuracy of our model improves over time."
   ]
  },
  {
   "cell_type": "code",
   "execution_count": 14,
   "metadata": {},
   "outputs": [
    {
     "data": {
      "text/plain": [
       "<matplotlib.legend.Legend at 0x7fc8cc23ff98>"
      ]
     },
     "execution_count": 14,
     "metadata": {},
     "output_type": "execute_result"
    },
    {
     "data": {
      "image/png": "[encoded data removed]",
      "text/plain": [
       "<Figure size 864x288 with 2 Axes>"
      ]
     },
     "metadata": {
      "needs_background": "light"
     },
     "output_type": "display_data"
    }
   ],
   "source": [
    "# Plot the learning curves\n",
    "\n",
    "import pandas as pd\n",
    "import numpy as np\n",
    "import matplotlib.pyplot as plt\n",
    "%matplotlib inline\n",
    "\n",
    "frame = pd.DataFrame(history.history)\n",
    "epochs = np.arange(len(frame))\n",
    "\n",
    "fig = plt.figure(figsize=(12,4))\n",
    "\n",
    "# Loss plot\n",
    "ax = fig.add_subplot(121)\n",
    "ax.plot(epochs, frame['loss'], label=\"Train\")\n",
    "ax.plot(epochs, frame['val_loss'], label=\"Validation\")\n",
    "ax.set_xlabel(\"Epochs\")\n",
    "ax.set_ylabel(\"Loss\")\n",
    "ax.set_title(\"Loss vs Epochs\")\n",
    "ax.legend()\n",
    "\n",
    "# Accuracy plot\n",
    "ax = fig.add_subplot(122)\n",
    "ax.plot(epochs, frame['mae'], label=\"Train\")\n",
    "ax.plot(epochs, frame['val_mae'], label=\"Validation\")\n",
    "ax.set_xlabel(\"Epochs\")\n",
    "ax.set_ylabel(\"Mean Absolute Error\")\n",
    "ax.set_title(\"Mean Absolute Error vs Epochs\")\n",
    "ax.legend()"
   ]
  },
  {
   "cell_type": "markdown",
   "metadata": {},
   "source": [
    "## Further reading and resources \n",
    "* https://keras.io/layers/normalization/\n",
    "* https://www.tensorflow.org/versions/r2.0/api_docs/python/tf/keras/layers/BatchNormalization"
   ]
  }
 ],
 "metadata": {
  "kernelspec": {
   "display_name": "Python 3",
   "language": "python",
   "name": "python3"
  },
  "language_info": {
   "codemirror_mode": {
    "name": "ipython",
    "version": 3
   },
   "file_extension": ".py",
   "mimetype": "text/x-python",
   "name": "python",
   "nbconvert_exporter": "python",
   "pygments_lexer": "ipython3",
   "version": "3.7.1"
  }
 },
 "nbformat": 4,
 "nbformat_minor": 2
}
