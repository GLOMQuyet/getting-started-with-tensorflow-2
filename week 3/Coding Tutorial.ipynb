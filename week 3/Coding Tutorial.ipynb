{
 "cells": [
  {
   "cell_type": "code",
   "execution_count": 1,
   "metadata": {
    "scrolled": true
   },
   "outputs": [
    {
     "name": "stdout",
     "output_type": "stream",
     "text": [
      "2.0.0\n"
     ]
    }
   ],
   "source": [
    "import tensorflow as tf\n",
    "print(tf.__version__)"
   ]
  },
  {
   "cell_type": "markdown",
   "metadata": {},
   "source": [
    "# Validation, regularisation and callbacks"
   ]
  },
  {
   "cell_type": "markdown",
   "metadata": {},
   "source": [
    " ## Coding tutorials\n",
    " #### [1. Validation sets](#coding_tutorial_1)\n",
    " #### [2. Model regularisation](#coding_tutorial_2)\n",
    " #### [3. Introduction to callbacks](#coding_tutorial_3)\n",
    " #### [4. Early stopping / patience](#coding_tutorial_4)"
   ]
  },
  {
   "cell_type": "markdown",
   "metadata": {},
   "source": [
    "***\n",
    "<a id=\"coding_tutorial_1\"></a>\n",
    "## Validation sets"
   ]
  },
  {
   "cell_type": "markdown",
   "metadata": {},
   "source": [
    "#### Load the data"
   ]
  },
  {
   "cell_type": "code",
   "execution_count": 2,
   "metadata": {},
   "outputs": [],
   "source": [
    "# Load the diabetes dataset\n",
    "\n",
    "from sklearn import datasets\n",
    "diabetes_dataset = datasets.load_diabetes()"
   ]
  },
  {
   "cell_type": "code",
   "execution_count": 3,
   "metadata": {},
   "outputs": [
    {
     "data": {
      "text/plain": [
       "dict_keys(['data', 'target', 'DESCR', 'feature_names', 'data_filename', 'target_filename'])"
      ]
     },
     "execution_count": 3,
     "metadata": {},
     "output_type": "execute_result"
    }
   ],
   "source": [
    "diabetes_dataset.keys()"
   ]
  },
  {
   "cell_type": "code",
   "execution_count": 4,
   "metadata": {},
   "outputs": [
    {
     "name": "stdout",
     "output_type": "stream",
     "text": [
      "(442, 10)\n",
      "(442,)\n"
     ]
    }
   ],
   "source": [
    "# Save the input and target variables\n",
    "\n",
    "data = diabetes_dataset[\"data\"]\n",
    "targets = diabetes_dataset[\"target\"]\n",
    "print(data.shape)\n",
    "print(targets.shape)"
   ]
  },
  {
   "cell_type": "code",
   "execution_count": 5,
   "metadata": {},
   "outputs": [
    {
     "data": {
      "text/plain": [
       "numpy.ndarray"
      ]
     },
     "execution_count": 5,
     "metadata": {},
     "output_type": "execute_result"
    }
   ],
   "source": [
    "type(targets)"
   ]
  },
  {
   "cell_type": "code",
   "execution_count": 6,
   "metadata": {},
   "outputs": [],
   "source": [
    "# Normalise the target data (this will make clearer training curves)\n",
    "\n",
    "targets = (targets-targets.mean())/targets.std()"
   ]
  },
  {
   "cell_type": "code",
   "execution_count": 7,
   "metadata": {},
   "outputs": [],
   "source": [
    "# Split the data into train and test sets\n",
    "\n",
    "from sklearn.model_selection import train_test_split\n",
    "\n",
    "train_data, test_data, train_labels, test_labels = train_test_split(data, targets, test_size=0.1)"
   ]
  },
  {
   "cell_type": "code",
   "execution_count": 8,
   "metadata": {},
   "outputs": [
    {
     "name": "stdout",
     "output_type": "stream",
     "text": [
      "(397, 10)\n",
      "(45, 10)\n"
     ]
    }
   ],
   "source": [
    "print(train_data.shape)\n",
    "print(test_data.shape)"
   ]
  },
  {
   "cell_type": "markdown",
   "metadata": {},
   "source": [
    "#### Train a feedforward neural network model"
   ]
  },
  {
   "cell_type": "code",
   "execution_count": 9,
   "metadata": {},
   "outputs": [],
   "source": [
    "# Build the model\n",
    "\n",
    "from tensorflow.keras.models import Sequential\n",
    "from tensorflow.keras.layers import Dense\n",
    "\n",
    "def get_model():\n",
    "    \n",
    "    model = Sequential([\n",
    "        Dense(128, activation='relu', input_shape=(train_data.shape[1],) ),\n",
    "        Dense(128, activation='relu'),\n",
    "        Dense(128, activation='relu'),\n",
    "        Dense(128, activation='relu'),\n",
    "        Dense(128, activation='relu'),\n",
    "        Dense(1)\n",
    "    ])\n",
    "    \n",
    "    return model\n",
    "\n",
    "model = get_model()"
   ]
  },
  {
   "cell_type": "code",
   "execution_count": 10,
   "metadata": {},
   "outputs": [
    {
     "name": "stdout",
     "output_type": "stream",
     "text": [
      "Model: \"sequential\"\n",
      "_________________________________________________________________\n",
      "Layer (type)                 Output Shape              Param #   \n",
      "=================================================================\n",
      "dense (Dense)                (None, 128)               1408      \n",
      "_________________________________________________________________\n",
      "dense_1 (Dense)              (None, 128)               16512     \n",
      "_________________________________________________________________\n",
      "dense_2 (Dense)              (None, 128)               16512     \n",
      "_________________________________________________________________\n",
      "dense_3 (Dense)              (None, 128)               16512     \n",
      "_________________________________________________________________\n",
      "dense_4 (Dense)              (None, 128)               16512     \n",
      "_________________________________________________________________\n",
      "dense_5 (Dense)              (None, 1)                 129       \n",
      "=================================================================\n",
      "Total params: 67,585\n",
      "Trainable params: 67,585\n",
      "Non-trainable params: 0\n",
      "_________________________________________________________________\n"
     ]
    }
   ],
   "source": [
    "# Print the model summary\n",
    "\n",
    "model.summary()"
   ]
  },
  {
   "cell_type": "code",
   "execution_count": 11,
   "metadata": {},
   "outputs": [],
   "source": [
    "# Compile the model\n",
    "\n",
    "model.compile(optimizer='adam', loss='mse', metrics=['mae'])"
   ]
  },
  {
   "cell_type": "code",
   "execution_count": 12,
   "metadata": {},
   "outputs": [
    {
     "name": "stdout",
     "output_type": "stream",
     "text": [
      "Train on 357 samples, validate on 40 samples\n",
      "Epoch 1/100\n",
      "357/357 [==============================] - 2s 5ms/sample - loss: 0.9842 - mae: 0.8502 - val_loss: 0.8721 - val_mae: 0.7788\n",
      "Epoch 2/100\n",
      "357/357 [==============================] - 0s 306us/sample - loss: 0.8512 - mae: 0.7946 - val_loss: 0.7502 - val_mae: 0.7299\n",
      "Epoch 3/100\n",
      "357/357 [==============================] - 0s 561us/sample - loss: 0.6496 - mae: 0.6940 - val_loss: 0.5679 - val_mae: 0.6190\n",
      "Epoch 4/100\n",
      "357/357 [==============================] - 0s 512us/sample - loss: 0.5469 - mae: 0.6000 - val_loss: 0.9184 - val_mae: 0.7917\n",
      "Epoch 5/100\n",
      "357/357 [==============================] - 0s 310us/sample - loss: 0.5464 - mae: 0.5904 - val_loss: 0.5304 - val_mae: 0.5627\n",
      "Epoch 6/100\n",
      "357/357 [==============================] - 0s 551us/sample - loss: 0.5123 - mae: 0.5834 - val_loss: 0.6800 - val_mae: 0.6959\n",
      "Epoch 7/100\n",
      "357/357 [==============================] - 0s 532us/sample - loss: 0.4866 - mae: 0.5759 - val_loss: 0.5196 - val_mae: 0.5712\n",
      "Epoch 8/100\n",
      "357/357 [==============================] - 0s 300us/sample - loss: 0.4710 - mae: 0.5451 - val_loss: 0.6409 - val_mae: 0.6698\n",
      "Epoch 9/100\n",
      "357/357 [==============================] - 0s 540us/sample - loss: 0.4651 - mae: 0.5383 - val_loss: 0.5473 - val_mae: 0.6076\n",
      "Epoch 10/100\n",
      "357/357 [==============================] - 0s 305us/sample - loss: 0.4567 - mae: 0.5387 - val_loss: 0.5484 - val_mae: 0.6134\n",
      "Epoch 11/100\n",
      "357/357 [==============================] - 0s 549us/sample - loss: 0.4411 - mae: 0.5316 - val_loss: 0.5379 - val_mae: 0.6014\n",
      "Epoch 12/100\n",
      "357/357 [==============================] - 0s 506us/sample - loss: 0.4322 - mae: 0.5186 - val_loss: 0.6396 - val_mae: 0.6614\n",
      "Epoch 13/100\n",
      "357/357 [==============================] - 0s 335us/sample - loss: 0.4329 - mae: 0.5127 - val_loss: 0.5465 - val_mae: 0.5960\n",
      "Epoch 14/100\n",
      "357/357 [==============================] - 0s 502us/sample - loss: 0.4279 - mae: 0.5204 - val_loss: 0.6191 - val_mae: 0.6448\n",
      "Epoch 15/100\n",
      "357/357 [==============================] - 0s 314us/sample - loss: 0.4258 - mae: 0.5119 - val_loss: 0.6015 - val_mae: 0.6278\n",
      "Epoch 16/100\n",
      "357/357 [==============================] - 0s 553us/sample - loss: 0.4129 - mae: 0.5032 - val_loss: 0.5788 - val_mae: 0.6121\n",
      "Epoch 17/100\n",
      "357/357 [==============================] - 0s 298us/sample - loss: 0.4033 - mae: 0.5000 - val_loss: 0.6916 - val_mae: 0.6801\n",
      "Epoch 18/100\n",
      "357/357 [==============================] - 0s 353us/sample - loss: 0.4094 - mae: 0.5035 - val_loss: 0.5667 - val_mae: 0.5966\n",
      "Epoch 19/100\n",
      "357/357 [==============================] - 0s 520us/sample - loss: 0.3942 - mae: 0.4948 - val_loss: 0.6157 - val_mae: 0.6276\n",
      "Epoch 20/100\n",
      "357/357 [==============================] - 0s 295us/sample - loss: 0.3864 - mae: 0.4837 - val_loss: 0.6230 - val_mae: 0.6284\n",
      "Epoch 21/100\n",
      "357/357 [==============================] - 0s 544us/sample - loss: 0.3811 - mae: 0.4823 - val_loss: 0.6487 - val_mae: 0.6463\n",
      "Epoch 22/100\n",
      "357/357 [==============================] - 0s 293us/sample - loss: 0.3717 - mae: 0.4770 - val_loss: 0.5999 - val_mae: 0.6075\n",
      "Epoch 23/100\n",
      "357/357 [==============================] - 0s 519us/sample - loss: 0.3731 - mae: 0.4759 - val_loss: 0.6956 - val_mae: 0.6624\n",
      "Epoch 24/100\n",
      "357/357 [==============================] - 0s 318us/sample - loss: 0.3710 - mae: 0.4763 - val_loss: 0.7021 - val_mae: 0.6669\n",
      "Epoch 25/100\n",
      "357/357 [==============================] - 0s 525us/sample - loss: 0.3700 - mae: 0.4768 - val_loss: 0.5795 - val_mae: 0.5949\n",
      "Epoch 26/100\n",
      "357/357 [==============================] - 0s 310us/sample - loss: 0.3865 - mae: 0.4905 - val_loss: 0.5782 - val_mae: 0.5850\n",
      "Epoch 27/100\n",
      "357/357 [==============================] - ETA: 0s - loss: 0.3090 - mae: 0.434 - 0s 496us/sample - loss: 0.3786 - mae: 0.4786 - val_loss: 0.7961 - val_mae: 0.7208\n",
      "Epoch 28/100\n",
      "357/357 [==============================] - 0s 333us/sample - loss: 0.3770 - mae: 0.4833 - val_loss: 0.6029 - val_mae: 0.6027\n",
      "Epoch 29/100\n",
      "357/357 [==============================] - 0s 283us/sample - loss: 0.3525 - mae: 0.4690 - val_loss: 0.6188 - val_mae: 0.6072\n",
      "Epoch 30/100\n",
      "357/357 [==============================] - 0s 526us/sample - loss: 0.3479 - mae: 0.4632 - val_loss: 0.7296 - val_mae: 0.6778\n",
      "Epoch 31/100\n",
      "357/357 [==============================] - 0s 303us/sample - loss: 0.3298 - mae: 0.4503 - val_loss: 0.6579 - val_mae: 0.6235\n",
      "Epoch 32/100\n",
      "357/357 [==============================] - 0s 543us/sample - loss: 0.3194 - mae: 0.4389 - val_loss: 0.6576 - val_mae: 0.6304\n",
      "Epoch 33/100\n",
      "357/357 [==============================] - 0s 292us/sample - loss: 0.3110 - mae: 0.4318 - val_loss: 0.6924 - val_mae: 0.6482\n",
      "Epoch 34/100\n",
      "357/357 [==============================] - 0s 509us/sample - loss: 0.3046 - mae: 0.4279 - val_loss: 0.7001 - val_mae: 0.6463\n",
      "Epoch 35/100\n",
      "357/357 [==============================] - 0s 328us/sample - loss: 0.3069 - mae: 0.4302 - val_loss: 0.7414 - val_mae: 0.6737\n",
      "Epoch 36/100\n",
      "357/357 [==============================] - 0s 499us/sample - loss: 0.2996 - mae: 0.4321 - val_loss: 0.6339 - val_mae: 0.5990\n",
      "Epoch 37/100\n",
      "357/357 [==============================] - 0s 323us/sample - loss: 0.3033 - mae: 0.4284 - val_loss: 0.6514 - val_mae: 0.6211\n",
      "Epoch 38/100\n",
      "357/357 [==============================] - 0s 509us/sample - loss: 0.3094 - mae: 0.4300 - val_loss: 0.6568 - val_mae: 0.6103\n",
      "Epoch 39/100\n",
      "357/357 [==============================] - 0s 541us/sample - loss: 0.2813 - mae: 0.4133 - val_loss: 0.8499 - val_mae: 0.7363\n",
      "Epoch 40/100\n",
      "357/357 [==============================] - 0s 335us/sample - loss: 0.3081 - mae: 0.4241 - val_loss: 0.8192 - val_mae: 0.7280\n",
      "Epoch 41/100\n",
      "357/357 [==============================] - 0s 501us/sample - loss: 0.2660 - mae: 0.4048 - val_loss: 0.6815 - val_mae: 0.6239\n",
      "Epoch 42/100\n",
      "357/357 [==============================] - 0s 324us/sample - loss: 0.2769 - mae: 0.4044 - val_loss: 0.7026 - val_mae: 0.6310\n",
      "Epoch 43/100\n",
      "357/357 [==============================] - 0s 503us/sample - loss: 0.2968 - mae: 0.4202 - val_loss: 0.8935 - val_mae: 0.7727\n",
      "Epoch 44/100\n",
      "357/357 [==============================] - 0s 337us/sample - loss: 0.2717 - mae: 0.4072 - val_loss: 0.8294 - val_mae: 0.7127\n",
      "Epoch 45/100\n",
      "357/357 [==============================] - 0s 278us/sample - loss: 0.2647 - mae: 0.4045 - val_loss: 0.7006 - val_mae: 0.6368\n",
      "Epoch 46/100\n",
      "357/357 [==============================] - 0s 330us/sample - loss: 0.2586 - mae: 0.3948 - val_loss: 0.7164 - val_mae: 0.6465\n",
      "Epoch 47/100\n",
      "357/357 [==============================] - 0s 522us/sample - loss: 0.2378 - mae: 0.3734 - val_loss: 0.7355 - val_mae: 0.6558\n",
      "Epoch 48/100\n",
      "357/357 [==============================] - 0s 302us/sample - loss: 0.2195 - mae: 0.3621 - val_loss: 0.7136 - val_mae: 0.6385\n",
      "Epoch 49/100\n",
      "357/357 [==============================] - 0s 512us/sample - loss: 0.2189 - mae: 0.3600 - val_loss: 0.7320 - val_mae: 0.6623\n",
      "Epoch 50/100\n",
      "357/357 [==============================] - 0s 330us/sample - loss: 0.2180 - mae: 0.3612 - val_loss: 0.7728 - val_mae: 0.6668\n",
      "Epoch 51/100\n",
      "357/357 [==============================] - 0s 292us/sample - loss: 0.1934 - mae: 0.3409 - val_loss: 0.8276 - val_mae: 0.6966\n",
      "Epoch 52/100\n",
      "357/357 [==============================] - 0s 336us/sample - loss: 0.1864 - mae: 0.3352 - val_loss: 0.7807 - val_mae: 0.6884\n",
      "Epoch 53/100\n",
      "357/357 [==============================] - 0s 292us/sample - loss: 0.1815 - mae: 0.3255 - val_loss: 0.7744 - val_mae: 0.6818\n",
      "Epoch 54/100\n",
      "357/357 [==============================] - 0s 325us/sample - loss: 0.1828 - mae: 0.3295 - val_loss: 0.8888 - val_mae: 0.7155\n",
      "Epoch 55/100\n",
      "357/357 [==============================] - 0s 506us/sample - loss: 0.2036 - mae: 0.3446 - val_loss: 0.8037 - val_mae: 0.6885\n",
      "Epoch 56/100\n",
      "357/357 [==============================] - 0s 322us/sample - loss: 0.1767 - mae: 0.3308 - val_loss: 0.8112 - val_mae: 0.7043\n",
      "Epoch 57/100\n",
      "357/357 [==============================] - 0s 508us/sample - loss: 0.1585 - mae: 0.3114 - val_loss: 0.7993 - val_mae: 0.6834\n",
      "Epoch 58/100\n",
      "357/357 [==============================] - 0s 329us/sample - loss: 0.1461 - mae: 0.2931 - val_loss: 0.8887 - val_mae: 0.7263\n",
      "Epoch 59/100\n",
      "357/357 [==============================] - 0s 295us/sample - loss: 0.1471 - mae: 0.3006 - val_loss: 0.9217 - val_mae: 0.7356\n",
      "Epoch 60/100\n",
      "357/357 [==============================] - 0s 544us/sample - loss: 0.1227 - mae: 0.2646 - val_loss: 0.9308 - val_mae: 0.7386\n",
      "Epoch 61/100\n",
      "357/357 [==============================] - 0s 299us/sample - loss: 0.1441 - mae: 0.3004 - val_loss: 0.8358 - val_mae: 0.7159\n",
      "Epoch 62/100\n",
      "357/357 [==============================] - 0s 519us/sample - loss: 0.1205 - mae: 0.2636 - val_loss: 0.9575 - val_mae: 0.7638\n",
      "Epoch 63/100\n",
      "357/357 [==============================] - 0s 297us/sample - loss: 0.1127 - mae: 0.2546 - val_loss: 1.0420 - val_mae: 0.7903\n",
      "Epoch 64/100\n",
      "357/357 [==============================] - 0s 537us/sample - loss: 0.1124 - mae: 0.2560 - val_loss: 0.8088 - val_mae: 0.6980\n",
      "Epoch 65/100\n",
      "357/357 [==============================] - 0s 306us/sample - loss: 0.1076 - mae: 0.2603 - val_loss: 0.8242 - val_mae: 0.6838\n",
      "Epoch 66/100\n",
      "357/357 [==============================] - 0s 519us/sample - loss: 0.1148 - mae: 0.2596 - val_loss: 0.8625 - val_mae: 0.7055\n",
      "Epoch 67/100\n",
      "357/357 [==============================] - 0s 298us/sample - loss: 0.1174 - mae: 0.2690 - val_loss: 0.8988 - val_mae: 0.7313\n",
      "Epoch 68/100\n",
      "357/357 [==============================] - 0s 551us/sample - loss: 0.0956 - mae: 0.2377 - val_loss: 0.8966 - val_mae: 0.7311\n",
      "Epoch 69/100\n",
      "357/357 [==============================] - 0s 294us/sample - loss: 0.0999 - mae: 0.2463 - val_loss: 0.9014 - val_mae: 0.7237\n",
      "Epoch 70/100\n",
      "357/357 [==============================] - 0s 549us/sample - loss: 0.1020 - mae: 0.2435 - val_loss: 1.1594 - val_mae: 0.8422\n",
      "Epoch 71/100\n",
      "357/357 [==============================] - 0s 291us/sample - loss: 0.1020 - mae: 0.2427 - val_loss: 0.8512 - val_mae: 0.7014\n",
      "Epoch 72/100\n",
      "357/357 [==============================] - 0s 325us/sample - loss: 0.0805 - mae: 0.2156 - val_loss: 0.8680 - val_mae: 0.7136\n",
      "Epoch 73/100\n",
      "357/357 [==============================] - 0s 285us/sample - loss: 0.0802 - mae: 0.2136 - val_loss: 0.9594 - val_mae: 0.7502\n",
      "Epoch 74/100\n",
      "357/357 [==============================] - 0s 518us/sample - loss: 0.0726 - mae: 0.2066 - val_loss: 0.9705 - val_mae: 0.7523\n",
      "Epoch 75/100\n",
      "357/357 [==============================] - 0s 312us/sample - loss: 0.0670 - mae: 0.1934 - val_loss: 0.8742 - val_mae: 0.7053\n",
      "Epoch 76/100\n",
      "357/357 [==============================] - 0s 298us/sample - loss: 0.0631 - mae: 0.1874 - val_loss: 0.9314 - val_mae: 0.7413\n",
      "Epoch 77/100\n",
      "357/357 [==============================] - 0s 345us/sample - loss: 0.0650 - mae: 0.1929 - val_loss: 1.1595 - val_mae: 0.8371\n",
      "Epoch 78/100\n",
      "357/357 [==============================] - 0s 509us/sample - loss: 0.0966 - mae: 0.2424 - val_loss: 0.9013 - val_mae: 0.7317\n",
      "Epoch 79/100\n",
      "357/357 [==============================] - 0s 315us/sample - loss: 0.0913 - mae: 0.2382 - val_loss: 0.8826 - val_mae: 0.7056\n",
      "Epoch 80/100\n",
      "357/357 [==============================] - 0s 296us/sample - loss: 0.0821 - mae: 0.2291 - val_loss: 1.2179 - val_mae: 0.8505\n",
      "Epoch 81/100\n",
      "357/357 [==============================] - 0s 540us/sample - loss: 0.0877 - mae: 0.2315 - val_loss: 0.8688 - val_mae: 0.7121\n",
      "Epoch 82/100\n",
      "357/357 [==============================] - 0s 290us/sample - loss: 0.0785 - mae: 0.2140 - val_loss: 0.8873 - val_mae: 0.7044\n",
      "Epoch 83/100\n",
      "357/357 [==============================] - 0s 553us/sample - loss: 0.0551 - mae: 0.1769 - val_loss: 1.0105 - val_mae: 0.7532\n",
      "Epoch 84/100\n",
      "357/357 [==============================] - 0s 520us/sample - loss: 0.0563 - mae: 0.1777 - val_loss: 0.9628 - val_mae: 0.7425\n",
      "Epoch 85/100\n",
      "357/357 [==============================] - 0s 307us/sample - loss: 0.0558 - mae: 0.1797 - val_loss: 0.9044 - val_mae: 0.7148\n",
      "Epoch 86/100\n",
      "357/357 [==============================] - 0s 502us/sample - loss: 0.0657 - mae: 0.2005 - val_loss: 1.0506 - val_mae: 0.7799\n",
      "Epoch 87/100\n",
      "357/357 [==============================] - 0s 319us/sample - loss: 0.0668 - mae: 0.1981 - val_loss: 0.8394 - val_mae: 0.6831\n",
      "Epoch 88/100\n",
      "357/357 [==============================] - 0s 294us/sample - loss: 0.0669 - mae: 0.1983 - val_loss: 0.9214 - val_mae: 0.7247\n",
      "Epoch 89/100\n",
      "357/357 [==============================] - 0s 537us/sample - loss: 0.0563 - mae: 0.1817 - val_loss: 0.9471 - val_mae: 0.7405\n",
      "Epoch 90/100\n",
      "357/357 [==============================] - 0s 306us/sample - loss: 0.0572 - mae: 0.1817 - val_loss: 0.8786 - val_mae: 0.7027\n",
      "Epoch 91/100\n",
      "357/357 [==============================] - 0s 514us/sample - loss: 0.0463 - mae: 0.1617 - val_loss: 0.9259 - val_mae: 0.7127\n",
      "Epoch 92/100\n",
      "357/357 [==============================] - 0s 321us/sample - loss: 0.0391 - mae: 0.1475 - val_loss: 0.9274 - val_mae: 0.7224\n",
      "Epoch 93/100\n",
      "357/357 [==============================] - 0s 300us/sample - loss: 0.0377 - mae: 0.1418 - val_loss: 0.9939 - val_mae: 0.7449\n",
      "Epoch 94/100\n",
      "357/357 [==============================] - 0s 308us/sample - loss: 0.0350 - mae: 0.1384 - val_loss: 0.9530 - val_mae: 0.7401\n",
      "Epoch 95/100\n",
      "357/357 [==============================] - 0s 539us/sample - loss: 0.0313 - mae: 0.1273 - val_loss: 0.9818 - val_mae: 0.7313\n",
      "Epoch 96/100\n",
      "357/357 [==============================] - 0s 307us/sample - loss: 0.0353 - mae: 0.1404 - val_loss: 0.8838 - val_mae: 0.7087\n",
      "Epoch 97/100\n",
      "357/357 [==============================] - 0s 341us/sample - loss: 0.0585 - mae: 0.1854 - val_loss: 0.9570 - val_mae: 0.7161\n",
      "Epoch 98/100\n",
      "357/357 [==============================] - 0s 496us/sample - loss: 0.0521 - mae: 0.1770 - val_loss: 0.8684 - val_mae: 0.7028\n",
      "Epoch 99/100\n",
      "357/357 [==============================] - 0s 356us/sample - loss: 0.0398 - mae: 0.1473 - val_loss: 1.0029 - val_mae: 0.7421\n",
      "Epoch 100/100\n",
      "357/357 [==============================] - 0s 488us/sample - loss: 0.0388 - mae: 0.1506 - val_loss: 0.9103 - val_mae: 0.7165\n"
     ]
    }
   ],
   "source": [
    "# Train the model, with some of the data reserved for validation\n",
    "\n",
    "history = model.fit(train_data, train_labels, epochs=100, validation_split=0.1, batch_size=64)"
   ]
  },
  {
   "cell_type": "code",
   "execution_count": 13,
   "metadata": {},
   "outputs": [
    {
     "name": "stdout",
     "output_type": "stream",
     "text": [
      "45/1 - 0s - loss: 0.7403 - mae: 0.6290\n"
     ]
    },
    {
     "data": {
      "text/plain": [
       "[0.6900706768035889, 0.6289561]"
      ]
     },
     "execution_count": 13,
     "metadata": {},
     "output_type": "execute_result"
    }
   ],
   "source": [
    "# Evaluate the model on the test set\n",
    "\n",
    "model.evaluate(test_data, test_labels, verbose=2)"
   ]
  },
  {
   "cell_type": "markdown",
   "metadata": {},
   "source": [
    "#### Plot the learning curves"
   ]
  },
  {
   "cell_type": "code",
   "execution_count": 14,
   "metadata": {},
   "outputs": [],
   "source": [
    "import matplotlib.pyplot as plt\n",
    "%matplotlib inline"
   ]
  },
  {
   "cell_type": "code",
   "execution_count": 15,
   "metadata": {},
   "outputs": [
    {
     "data": {
      "image/png": "[encoded data removed]",
      "text/plain": [
       "<Figure size 432x288 with 1 Axes>"
      ]
     },
     "metadata": {
      "needs_background": "light"
     },
     "output_type": "display_data"
    }
   ],
   "source": [
    "# Plot the training and validation loss\n",
    "\n",
    "plt.plot(history.history['loss'])\n",
    "plt.plot(history.history['val_loss'])\n",
    "plt.title('Loss vs. epochs')\n",
    "plt.ylabel('Loss')\n",
    "plt.xlabel('Epoch')\n",
    "plt.legend(['Training', 'Validation'], loc='upper right')\n",
    "plt.show()"
   ]
  },
  {
   "cell_type": "markdown",
   "metadata": {},
   "source": [
    "***\n",
    "<a id=\"coding_tutorial_2\"></a>\n",
    "## Model regularisation"
   ]
  },
  {
   "cell_type": "markdown",
   "metadata": {},
   "source": [
    "#### Adding regularisation with weight decay and dropout"
   ]
  },
  {
   "cell_type": "code",
   "execution_count": 16,
   "metadata": {},
   "outputs": [],
   "source": [
    "from tensorflow.keras.layers import Dropout\n",
    "from tensorflow.keras import regularizers"
   ]
  },
  {
   "cell_type": "code",
   "execution_count": 17,
   "metadata": {},
   "outputs": [],
   "source": [
    "def get_regularised_model(wd, rate):\n",
    "    model = Sequential([\n",
    "        Dense(128, activation=\"relu\", kernel_regularizer=regularizers.l2(wd), input_shape=(train_data.shape[1],)),\n",
    "        Dropout(rate),\n",
    "        Dense(128, activation=\"relu\", kernel_regularizer=regularizers.l2(wd)),\n",
    "        Dropout(rate),\n",
    "        Dense(128, activation=\"relu\", kernel_regularizer=regularizers.l2(wd)),\n",
    "        Dropout(rate),\n",
    "        Dense(128, activation=\"relu\", kernel_regularizer=regularizers.l2(wd)),\n",
    "        Dropout(rate),\n",
    "        Dense(128, activation=\"relu\", kernel_regularizer=regularizers.l2(wd)),\n",
    "        Dropout(rate),\n",
    "        Dense(128, activation=\"relu\", kernel_regularizer=regularizers.l2(wd)),\n",
    "        Dropout(rate),\n",
    "        Dense(1)\n",
    "    ])\n",
    "    return model"
   ]
  },
  {
   "cell_type": "code",
   "execution_count": 18,
   "metadata": {},
   "outputs": [
    {
     "name": "stdout",
     "output_type": "stream",
     "text": [
      "Model: \"sequential_1\"\n",
      "_________________________________________________________________\n",
      "Layer (type)                 Output Shape              Param #   \n",
      "=================================================================\n",
      "dense_6 (Dense)              (None, 128)               1408      \n",
      "_________________________________________________________________\n",
      "dropout (Dropout)            (None, 128)               0         \n",
      "_________________________________________________________________\n",
      "dense_7 (Dense)              (None, 128)               16512     \n",
      "_________________________________________________________________\n",
      "dropout_1 (Dropout)          (None, 128)               0         \n",
      "_________________________________________________________________\n",
      "dense_8 (Dense)              (None, 128)               16512     \n",
      "_________________________________________________________________\n",
      "dropout_2 (Dropout)          (None, 128)               0         \n",
      "_________________________________________________________________\n",
      "dense_9 (Dense)              (None, 128)               16512     \n",
      "_________________________________________________________________\n",
      "dropout_3 (Dropout)          (None, 128)               0         \n",
      "_________________________________________________________________\n",
      "dense_10 (Dense)             (None, 128)               16512     \n",
      "_________________________________________________________________\n",
      "dropout_4 (Dropout)          (None, 128)               0         \n",
      "_________________________________________________________________\n",
      "dense_11 (Dense)             (None, 128)               16512     \n",
      "_________________________________________________________________\n",
      "dropout_5 (Dropout)          (None, 128)               0         \n",
      "_________________________________________________________________\n",
      "dense_12 (Dense)             (None, 1)                 129       \n",
      "=================================================================\n",
      "Total params: 84,097\n",
      "Trainable params: 84,097\n",
      "Non-trainable params: 0\n",
      "_________________________________________________________________\n"
     ]
    }
   ],
   "source": [
    "# Re-build the model with weight decay and dropout layers\n",
    "model = get_regularised_model(1e-5,0.5)\n",
    "model.summary()"
   ]
  },
  {
   "cell_type": "code",
   "execution_count": 19,
   "metadata": {},
   "outputs": [],
   "source": [
    "# Compile the model\n",
    "\n",
    "model.compile(optimizer='adam', loss='mse', metrics=['mae'])"
   ]
  },
  {
   "cell_type": "code",
   "execution_count": 20,
   "metadata": {},
   "outputs": [
    {
     "name": "stdout",
     "output_type": "stream",
     "text": [
      "Train on 337 samples, validate on 60 samples\n",
      "Epoch 1/100\n",
      "337/337 [==============================] - 3s 8ms/sample - loss: 1.0161 - mae: 0.8590 - val_loss: 0.9911 - val_mae: 0.8243\n",
      "Epoch 2/100\n",
      "337/337 [==============================] - 0s 372us/sample - loss: 1.0132 - mae: 0.8588 - val_loss: 0.9897 - val_mae: 0.8259\n",
      "Epoch 3/100\n",
      "337/337 [==============================] - 0s 568us/sample - loss: 1.0131 - mae: 0.8605 - val_loss: 0.9876 - val_mae: 0.8273\n",
      "Epoch 4/100\n",
      "337/337 [==============================] - 0s 578us/sample - loss: 1.0091 - mae: 0.8607 - val_loss: 0.9836 - val_mae: 0.8275\n",
      "Epoch 5/100\n",
      "337/337 [==============================] - 0s 579us/sample - loss: 0.9955 - mae: 0.8562 - val_loss: 0.9757 - val_mae: 0.8239\n",
      "Epoch 6/100\n",
      "337/337 [==============================] - 0s 571us/sample - loss: 0.9930 - mae: 0.8572 - val_loss: 0.9595 - val_mae: 0.8195\n",
      "Epoch 7/100\n",
      "337/337 [==============================] - 0s 578us/sample - loss: 0.9537 - mae: 0.8427 - val_loss: 0.9221 - val_mae: 0.8081\n",
      "Epoch 8/100\n",
      "337/337 [==============================] - 0s 566us/sample - loss: 0.9223 - mae: 0.8279 - val_loss: 0.8521 - val_mae: 0.7837\n",
      "Epoch 9/100\n",
      "337/337 [==============================] - 0s 381us/sample - loss: 0.8413 - mae: 0.7840 - val_loss: 0.7718 - val_mae: 0.7483\n",
      "Epoch 10/100\n",
      "337/337 [==============================] - 0s 382us/sample - loss: 0.7981 - mae: 0.7662 - val_loss: 0.7063 - val_mae: 0.7080\n",
      "Epoch 11/100\n",
      "337/337 [==============================] - 0s 588us/sample - loss: 0.8164 - mae: 0.7731 - val_loss: 0.6749 - val_mae: 0.6882\n",
      "Epoch 12/100\n",
      "337/337 [==============================] - 0s 552us/sample - loss: 0.7367 - mae: 0.7271 - val_loss: 0.6702 - val_mae: 0.6812\n",
      "Epoch 13/100\n",
      "337/337 [==============================] - 0s 613us/sample - loss: 0.7499 - mae: 0.7294 - val_loss: 0.6190 - val_mae: 0.6568\n",
      "Epoch 14/100\n",
      "337/337 [==============================] - 0s 314us/sample - loss: 0.6721 - mae: 0.6944 - val_loss: 0.5885 - val_mae: 0.6415\n",
      "Epoch 15/100\n",
      "337/337 [==============================] - 0s 385us/sample - loss: 0.7398 - mae: 0.7138 - val_loss: 0.5824 - val_mae: 0.6344\n",
      "Epoch 16/100\n",
      "337/337 [==============================] - 0s 383us/sample - loss: 0.6860 - mae: 0.6827 - val_loss: 0.5806 - val_mae: 0.6287\n",
      "Epoch 17/100\n",
      "337/337 [==============================] - 0s 576us/sample - loss: 0.6565 - mae: 0.6730 - val_loss: 0.5569 - val_mae: 0.6212\n",
      "Epoch 18/100\n",
      "337/337 [==============================] - 0s 609us/sample - loss: 0.6813 - mae: 0.6913 - val_loss: 0.5402 - val_mae: 0.6140\n",
      "Epoch 19/100\n",
      "337/337 [==============================] - 0s 557us/sample - loss: 0.6907 - mae: 0.6897 - val_loss: 0.5680 - val_mae: 0.6102\n",
      "Epoch 20/100\n",
      "337/337 [==============================] - 0s 599us/sample - loss: 0.6263 - mae: 0.6490 - val_loss: 0.5415 - val_mae: 0.6037\n",
      "Epoch 21/100\n",
      "337/337 [==============================] - 0s 578us/sample - loss: 0.6224 - mae: 0.6523 - val_loss: 0.5226 - val_mae: 0.6019\n",
      "Epoch 22/100\n",
      "337/337 [==============================] - 0s 534us/sample - loss: 0.6227 - mae: 0.6335 - val_loss: 0.5548 - val_mae: 0.5970\n",
      "Epoch 23/100\n",
      "337/337 [==============================] - 0s 368us/sample - loss: 0.6243 - mae: 0.6330 - val_loss: 0.5246 - val_mae: 0.5925\n",
      "Epoch 24/100\n",
      "337/337 [==============================] - 0s 569us/sample - loss: 0.6298 - mae: 0.6583 - val_loss: 0.5148 - val_mae: 0.5959\n",
      "Epoch 25/100\n",
      "337/337 [==============================] - 0s 602us/sample - loss: 0.6220 - mae: 0.6478 - val_loss: 0.5400 - val_mae: 0.5931\n",
      "Epoch 26/100\n",
      "337/337 [==============================] - 0s 578us/sample - loss: 0.5988 - mae: 0.6310 - val_loss: 0.5235 - val_mae: 0.5955\n",
      "Epoch 27/100\n",
      "337/337 [==============================] - 0s 571us/sample - loss: 0.5968 - mae: 0.6346 - val_loss: 0.5495 - val_mae: 0.6045\n",
      "Epoch 28/100\n",
      "337/337 [==============================] - 0s 558us/sample - loss: 0.6135 - mae: 0.6384 - val_loss: 0.5356 - val_mae: 0.6011\n",
      "Epoch 29/100\n",
      "337/337 [==============================] - 0s 380us/sample - loss: 0.5873 - mae: 0.6184 - val_loss: 0.5301 - val_mae: 0.5963\n",
      "Epoch 30/100\n",
      "337/337 [==============================] - 0s 555us/sample - loss: 0.5974 - mae: 0.6329 - val_loss: 0.5280 - val_mae: 0.5917\n",
      "Epoch 31/100\n",
      "337/337 [==============================] - 0s 576us/sample - loss: 0.5684 - mae: 0.6121 - val_loss: 0.5212 - val_mae: 0.5923\n",
      "Epoch 32/100\n",
      "337/337 [==============================] - 0s 589us/sample - loss: 0.5986 - mae: 0.6317 - val_loss: 0.5543 - val_mae: 0.6040\n",
      "Epoch 33/100\n",
      "337/337 [==============================] - 0s 567us/sample - loss: 0.6312 - mae: 0.6523 - val_loss: 0.5353 - val_mae: 0.5992\n",
      "Epoch 34/100\n",
      "337/337 [==============================] - 0s 558us/sample - loss: 0.6027 - mae: 0.6391 - val_loss: 0.5436 - val_mae: 0.5961\n",
      "Epoch 35/100\n",
      "337/337 [==============================] - 0s 564us/sample - loss: 0.5687 - mae: 0.6006 - val_loss: 0.5494 - val_mae: 0.5977\n",
      "Epoch 36/100\n",
      "337/337 [==============================] - 0s 378us/sample - loss: 0.6173 - mae: 0.6385 - val_loss: 0.5260 - val_mae: 0.5904\n",
      "Epoch 37/100\n",
      "337/337 [==============================] - 0s 394us/sample - loss: 0.6231 - mae: 0.6313 - val_loss: 0.5591 - val_mae: 0.6105\n",
      "Epoch 38/100\n",
      "337/337 [==============================] - 0s 568us/sample - loss: 0.5187 - mae: 0.5869 - val_loss: 0.5405 - val_mae: 0.6027\n",
      "Epoch 39/100\n",
      "337/337 [==============================] - 0s 561us/sample - loss: 0.5682 - mae: 0.6216 - val_loss: 0.5319 - val_mae: 0.5952\n",
      "Epoch 40/100\n",
      "337/337 [==============================] - 0s 548us/sample - loss: 0.5691 - mae: 0.6115 - val_loss: 0.5359 - val_mae: 0.5953\n",
      "Epoch 41/100\n",
      "337/337 [==============================] - 0s 366us/sample - loss: 0.5226 - mae: 0.5741 - val_loss: 0.5082 - val_mae: 0.5813\n",
      "Epoch 42/100\n",
      "337/337 [==============================] - 0s 598us/sample - loss: 0.5819 - mae: 0.6151 - val_loss: 0.5120 - val_mae: 0.5827\n",
      "Epoch 43/100\n",
      "337/337 [==============================] - 0s 571us/sample - loss: 0.5787 - mae: 0.6131 - val_loss: 0.5375 - val_mae: 0.5958\n",
      "Epoch 44/100\n",
      "337/337 [==============================] - 0s 551us/sample - loss: 0.6132 - mae: 0.6215 - val_loss: 0.5747 - val_mae: 0.6100\n",
      "Epoch 45/100\n",
      "337/337 [==============================] - 0s 363us/sample - loss: 0.5609 - mae: 0.6122 - val_loss: 0.5528 - val_mae: 0.6055\n",
      "Epoch 46/100\n",
      "337/337 [==============================] - 0s 383us/sample - loss: 0.5981 - mae: 0.6312 - val_loss: 0.5304 - val_mae: 0.5913\n",
      "Epoch 47/100\n",
      "337/337 [==============================] - 0s 377us/sample - loss: 0.5895 - mae: 0.6284 - val_loss: 0.5399 - val_mae: 0.5970\n",
      "Epoch 48/100\n",
      "337/337 [==============================] - 0s 584us/sample - loss: 0.5311 - mae: 0.6012 - val_loss: 0.5285 - val_mae: 0.5875\n",
      "Epoch 49/100\n",
      "337/337 [==============================] - 0s 557us/sample - loss: 0.5471 - mae: 0.5922 - val_loss: 0.5352 - val_mae: 0.5900\n",
      "Epoch 50/100\n",
      "337/337 [==============================] - 0s 577us/sample - loss: 0.5367 - mae: 0.5880 - val_loss: 0.5411 - val_mae: 0.5925\n",
      "Epoch 51/100\n",
      "337/337 [==============================] - 0s 574us/sample - loss: 0.5384 - mae: 0.5957 - val_loss: 0.5310 - val_mae: 0.5869\n",
      "Epoch 52/100\n",
      "337/337 [==============================] - 0s 567us/sample - loss: 0.5556 - mae: 0.5811 - val_loss: 0.5266 - val_mae: 0.5826\n",
      "Epoch 53/100\n",
      "337/337 [==============================] - 0s 368us/sample - loss: 0.5846 - mae: 0.6205 - val_loss: 0.5213 - val_mae: 0.5816\n",
      "Epoch 54/100\n",
      "337/337 [==============================] - 0s 582us/sample - loss: 0.5343 - mae: 0.5948 - val_loss: 0.5268 - val_mae: 0.5886\n",
      "Epoch 55/100\n",
      "337/337 [==============================] - 0s 578us/sample - loss: 0.5328 - mae: 0.5959 - val_loss: 0.5480 - val_mae: 0.5997\n",
      "Epoch 56/100\n",
      "337/337 [==============================] - 0s 573us/sample - loss: 0.5308 - mae: 0.5882 - val_loss: 0.5151 - val_mae: 0.5782\n",
      "Epoch 57/100\n",
      "337/337 [==============================] - 0s 558us/sample - loss: 0.5299 - mae: 0.5884 - val_loss: 0.5188 - val_mae: 0.5784\n",
      "Epoch 58/100\n",
      "337/337 [==============================] - 0s 346us/sample - loss: 0.5642 - mae: 0.6095 - val_loss: 0.5465 - val_mae: 0.5973\n",
      "Epoch 59/100\n",
      "337/337 [==============================] - 0s 590us/sample - loss: 0.5649 - mae: 0.6080 - val_loss: 0.5524 - val_mae: 0.6031\n",
      "Epoch 60/100\n",
      "337/337 [==============================] - 0s 572us/sample - loss: 0.5475 - mae: 0.5972 - val_loss: 0.5327 - val_mae: 0.5929\n",
      "Epoch 61/100\n",
      "337/337 [==============================] - 0s 589us/sample - loss: 0.5775 - mae: 0.6205 - val_loss: 0.5431 - val_mae: 0.5990\n",
      "Epoch 62/100\n",
      "337/337 [==============================] - 0s 565us/sample - loss: 0.5349 - mae: 0.5988 - val_loss: 0.5625 - val_mae: 0.6072\n",
      "Epoch 63/100\n",
      "337/337 [==============================] - 0s 565us/sample - loss: 0.5672 - mae: 0.6004 - val_loss: 0.5493 - val_mae: 0.6014\n",
      "Epoch 64/100\n",
      "337/337 [==============================] - 0s 362us/sample - loss: 0.5625 - mae: 0.6100 - val_loss: 0.5329 - val_mae: 0.5945\n",
      "Epoch 65/100\n",
      "337/337 [==============================] - 0s 584us/sample - loss: 0.5336 - mae: 0.5952 - val_loss: 0.5466 - val_mae: 0.5964\n",
      "Epoch 66/100\n",
      "337/337 [==============================] - 0s 588us/sample - loss: 0.5279 - mae: 0.5910 - val_loss: 0.5242 - val_mae: 0.5815\n",
      "Epoch 67/100\n",
      "337/337 [==============================] - 0s 570us/sample - loss: 0.5421 - mae: 0.5874 - val_loss: 0.5286 - val_mae: 0.5879\n",
      "Epoch 68/100\n",
      "337/337 [==============================] - 0s 582us/sample - loss: 0.5508 - mae: 0.6015 - val_loss: 0.5170 - val_mae: 0.5788\n",
      "Epoch 69/100\n",
      "337/337 [==============================] - 0s 538us/sample - loss: 0.5472 - mae: 0.5903 - val_loss: 0.5352 - val_mae: 0.5904\n",
      "Epoch 70/100\n",
      "337/337 [==============================] - 0s 378us/sample - loss: 0.4885 - mae: 0.5636 - val_loss: 0.5710 - val_mae: 0.6087\n",
      "Epoch 71/100\n",
      "337/337 [==============================] - 0s 570us/sample - loss: 0.5381 - mae: 0.5906 - val_loss: 0.5284 - val_mae: 0.5824\n",
      "Epoch 72/100\n",
      "337/337 [==============================] - 0s 569us/sample - loss: 0.5359 - mae: 0.5971 - val_loss: 0.5351 - val_mae: 0.5890\n",
      "Epoch 73/100\n",
      "337/337 [==============================] - 0s 550us/sample - loss: 0.5364 - mae: 0.5823 - val_loss: 0.5513 - val_mae: 0.5983\n",
      "Epoch 74/100\n",
      "337/337 [==============================] - 0s 382us/sample - loss: 0.5043 - mae: 0.5667 - val_loss: 0.5268 - val_mae: 0.5827\n",
      "Epoch 75/100\n",
      "337/337 [==============================] - 0s 572us/sample - loss: 0.5093 - mae: 0.5757 - val_loss: 0.5329 - val_mae: 0.5866\n",
      "Epoch 76/100\n",
      "337/337 [==============================] - 0s 569us/sample - loss: 0.5233 - mae: 0.5942 - val_loss: 0.5278 - val_mae: 0.5860\n",
      "Epoch 77/100\n",
      "337/337 [==============================] - 0s 591us/sample - loss: 0.5472 - mae: 0.5953 - val_loss: 0.5413 - val_mae: 0.5904\n",
      "Epoch 78/100\n",
      "337/337 [==============================] - 0s 587us/sample - loss: 0.5322 - mae: 0.5935 - val_loss: 0.5506 - val_mae: 0.5977\n",
      "Epoch 79/100\n",
      "337/337 [==============================] - 0s 566us/sample - loss: 0.5221 - mae: 0.5855 - val_loss: 0.5497 - val_mae: 0.5996\n",
      "Epoch 80/100\n",
      "337/337 [==============================] - 0s 566us/sample - loss: 0.5140 - mae: 0.5780 - val_loss: 0.5195 - val_mae: 0.5842\n",
      "Epoch 81/100\n",
      "337/337 [==============================] - 0s 361us/sample - loss: 0.5050 - mae: 0.5681 - val_loss: 0.5388 - val_mae: 0.5959\n",
      "Epoch 82/100\n",
      "337/337 [==============================] - 0s 364us/sample - loss: 0.4776 - mae: 0.5571 - val_loss: 0.5179 - val_mae: 0.5792\n",
      "Epoch 83/100\n",
      "337/337 [==============================] - 0s 582us/sample - loss: 0.5029 - mae: 0.5653 - val_loss: 0.5153 - val_mae: 0.5792\n",
      "Epoch 84/100\n",
      "337/337 [==============================] - 0s 585us/sample - loss: 0.5107 - mae: 0.5647 - val_loss: 0.5323 - val_mae: 0.5864\n",
      "Epoch 85/100\n",
      "337/337 [==============================] - 0s 539us/sample - loss: 0.5300 - mae: 0.5697 - val_loss: 0.5188 - val_mae: 0.5786\n",
      "Epoch 86/100\n",
      "337/337 [==============================] - 0s 377us/sample - loss: 0.5284 - mae: 0.5890 - val_loss: 0.5267 - val_mae: 0.5838\n",
      "Epoch 87/100\n",
      "337/337 [==============================] - 0s 565us/sample - loss: 0.5265 - mae: 0.5867 - val_loss: 0.5434 - val_mae: 0.5912\n",
      "Epoch 88/100\n",
      "337/337 [==============================] - 0s 596us/sample - loss: 0.5257 - mae: 0.5777 - val_loss: 0.5162 - val_mae: 0.5780\n",
      "Epoch 89/100\n",
      "337/337 [==============================] - 0s 558us/sample - loss: 0.5279 - mae: 0.5863 - val_loss: 0.5182 - val_mae: 0.5785\n",
      "Epoch 90/100\n",
      "337/337 [==============================] - 0s 567us/sample - loss: 0.5169 - mae: 0.5739 - val_loss: 0.5556 - val_mae: 0.5989\n",
      "Epoch 91/100\n",
      "337/337 [==============================] - 0s 574us/sample - loss: 0.5223 - mae: 0.5700 - val_loss: 0.5241 - val_mae: 0.5839\n",
      "Epoch 92/100\n",
      "337/337 [==============================] - 0s 374us/sample - loss: 0.5124 - mae: 0.5724 - val_loss: 0.5289 - val_mae: 0.5855\n",
      "Epoch 93/100\n",
      "337/337 [==============================] - 0s 566us/sample - loss: 0.5162 - mae: 0.5813 - val_loss: 0.5393 - val_mae: 0.5902\n",
      "Epoch 94/100\n",
      "337/337 [==============================] - 0s 617us/sample - loss: 0.5090 - mae: 0.5801 - val_loss: 0.5288 - val_mae: 0.5845\n",
      "Epoch 95/100\n",
      "337/337 [==============================] - 0s 544us/sample - loss: 0.5172 - mae: 0.5778 - val_loss: 0.5194 - val_mae: 0.5764\n",
      "Epoch 96/100\n",
      "337/337 [==============================] - 0s 572us/sample - loss: 0.5032 - mae: 0.5613 - val_loss: 0.5275 - val_mae: 0.5810\n",
      "Epoch 97/100\n",
      "337/337 [==============================] - 0s 591us/sample - loss: 0.5175 - mae: 0.5842 - val_loss: 0.5381 - val_mae: 0.5887\n",
      "Epoch 98/100\n",
      "337/337 [==============================] - 0s 351us/sample - loss: 0.5214 - mae: 0.5819 - val_loss: 0.5314 - val_mae: 0.5887\n",
      "Epoch 99/100\n",
      "337/337 [==============================] - 0s 561us/sample - loss: 0.4982 - mae: 0.5708 - val_loss: 0.5284 - val_mae: 0.5842\n",
      "Epoch 100/100\n",
      "337/337 [==============================] - 0s 585us/sample - loss: 0.5201 - mae: 0.5874 - val_loss: 0.5355 - val_mae: 0.5823\n"
     ]
    }
   ],
   "source": [
    "# Train the model, with some of the data reserved for validation\n",
    "\n",
    "history = model.fit(train_data, train_labels, epochs=100, validation_split=0.15, batch_size=64)"
   ]
  },
  {
   "cell_type": "code",
   "execution_count": 21,
   "metadata": {},
   "outputs": [
    {
     "name": "stdout",
     "output_type": "stream",
     "text": [
      "45/1 - 0s - loss: 0.6108 - mae: 0.5307\n"
     ]
    },
    {
     "data": {
      "text/plain": [
       "[0.4963275207413567, 0.53072095]"
      ]
     },
     "execution_count": 21,
     "metadata": {},
     "output_type": "execute_result"
    }
   ],
   "source": [
    "# Evaluate the model on the test set\n",
    "\n",
    "model.evaluate(test_data, test_labels, verbose=2)"
   ]
  },
  {
   "cell_type": "markdown",
   "metadata": {},
   "source": [
    "#### Plot the learning curves"
   ]
  },
  {
   "cell_type": "code",
   "execution_count": 22,
   "metadata": {},
   "outputs": [
    {
     "data": {
      "image/png": "[encoded data removed]",
      "text/plain": [
       "<Figure size 432x288 with 1 Axes>"
      ]
     },
     "metadata": {
      "needs_background": "light"
     },
     "output_type": "display_data"
    }
   ],
   "source": [
    "# Plot the training and validation loss\n",
    "\n",
    "import matplotlib.pyplot as plt\n",
    "\n",
    "plt.plot(history.history['loss'])\n",
    "plt.plot(history.history['val_loss'])\n",
    "plt.title('Loss vs. epochs')\n",
    "plt.ylabel('Loss')\n",
    "plt.xlabel('Epoch')\n",
    "plt.legend(['Training', 'Validation'], loc='upper right')\n",
    "plt.show()"
   ]
  },
  {
   "cell_type": "markdown",
   "metadata": {},
   "source": [
    "***\n",
    "<a id=\"coding_tutorial_3\"></a>\n",
    "## Introduction to callbacks"
   ]
  },
  {
   "cell_type": "markdown",
   "metadata": {},
   "source": [
    "#### Example training callback"
   ]
  },
  {
   "cell_type": "code",
   "execution_count": 23,
   "metadata": {},
   "outputs": [],
   "source": [
    "# Write a custom callback\n",
    "from tensorflow.keras.callbacks import Callback\n",
    "\n",
    "class TrainingCallback(Callback):\n",
    "    \n",
    "    def on_train_begin(self, logs=None):\n",
    "        print(\"Training Started....\")\n",
    "    \n",
    "    def on_epoch_begin(self, epoch, logs=None):\n",
    "        print(f\"Starting Epoch: {epoch}\")\n",
    "    \n",
    "    def on_train_batch_begin(self, batch, logs=None):\n",
    "        print(f\"Training: Starting Batch: {batch}\")\n",
    "        \n",
    "    def on_train_batch_end(self, batch, logs=None):\n",
    "        print(f\"Training: Finished Batch: {batch}\")\n",
    "        \n",
    "    def on_epoch_end(self, epoch, logs=None):\n",
    "        print(f\"Finished Epoch: {epoch}\")\n",
    "        \n",
    "    def on_train_end(self, logs=None):\n",
    "        print(\"Training Finished!!\")\n",
    "        "
   ]
  },
  {
   "cell_type": "code",
   "execution_count": 24,
   "metadata": {},
   "outputs": [],
   "source": [
    "# Re-build the model\n",
    "\n",
    "model = get_regularised_model(1e-5,0.5)"
   ]
  },
  {
   "cell_type": "code",
   "execution_count": 25,
   "metadata": {},
   "outputs": [],
   "source": [
    "# Compile the model\n",
    "\n",
    "model.compile(optimizer=\"adam\", loss=\"mse\")"
   ]
  },
  {
   "cell_type": "markdown",
   "metadata": {},
   "source": [
    "#### Train the model with the callback"
   ]
  },
  {
   "cell_type": "code",
   "execution_count": 27,
   "metadata": {},
   "outputs": [
    {
     "name": "stdout",
     "output_type": "stream",
     "text": [
      "Training Started....\n",
      "Starting Epoch: 0\n",
      "Training: Starting Batch: 0\n",
      "Training: Finished Batch: 0\n",
      "Training: Starting Batch: 1\n",
      "Training: Finished Batch: 1\n",
      "Training: Starting Batch: 2\n",
      "Training: Finished Batch: 2\n",
      "Training: Starting Batch: 3\n",
      "Training: Finished Batch: 3\n",
      "Finished Epoch: 0\n",
      "Starting Epoch: 1\n",
      "Training: Starting Batch: 0\n",
      "Training: Finished Batch: 0\n",
      "Training: Starting Batch: 1\n",
      "Training: Finished Batch: 1\n",
      "Training: Starting Batch: 2\n",
      "Training: Finished Batch: 2\n",
      "Training: Starting Batch: 3\n",
      "Training: Finished Batch: 3\n",
      "Finished Epoch: 1\n",
      "Starting Epoch: 2\n",
      "Training: Starting Batch: 0\n",
      "Training: Finished Batch: 0\n",
      "Training: Starting Batch: 1\n",
      "Training: Finished Batch: 1\n",
      "Training: Starting Batch: 2\n",
      "Training: Finished Batch: 2\n",
      "Training: Starting Batch: 3\n",
      "Training: Finished Batch: 3\n",
      "Finished Epoch: 2\n",
      "Training Finished!!\n"
     ]
    }
   ],
   "source": [
    "# Train the model, with some of the data reserved for validation\n",
    "\n",
    "history = model.fit(train_data, train_labels, epochs=3, verbose=False, batch_size=128, callbacks=[TrainingCallback()])"
   ]
  },
  {
   "cell_type": "code",
   "execution_count": 28,
   "metadata": {},
   "outputs": [],
   "source": [
    "class TestingCallback(Callback):\n",
    "    \n",
    "    def on_test_begin(self, logs=None):\n",
    "        print(\"Testing Started....\")\n",
    "    \n",
    "    def on_test_batch_begin(self, batch, logs=None):\n",
    "        print(f\"Testing: Starting Batch: {batch}\")\n",
    "        \n",
    "    def on_test_batch_end(self, batch, logs=None):\n",
    "        print(f\"Testing: Finished Batch: {batch}\")\n",
    "        \n",
    "    def on_test_end(self, logs=None):\n",
    "        print(\"Testing Finished!!\")"
   ]
  },
  {
   "cell_type": "code",
   "execution_count": 29,
   "metadata": {},
   "outputs": [
    {
     "name": "stdout",
     "output_type": "stream",
     "text": [
      "Testing Started....\n",
      "Testing: Starting Batch: 0\n",
      "Testing: Finished Batch: 0\n",
      "Testing: Starting Batch: 1\n",
      "Testing: Finished Batch: 1\n",
      "Testing Finished!!\n"
     ]
    },
    {
     "data": {
      "text/plain": [
       "0.9831768830617269"
      ]
     },
     "execution_count": 29,
     "metadata": {},
     "output_type": "execute_result"
    }
   ],
   "source": [
    "# Evaluate the model\n",
    "\n",
    "model.evaluate(test_data, test_labels, verbose=False, callbacks=[TestingCallback()])"
   ]
  },
  {
   "cell_type": "code",
   "execution_count": 30,
   "metadata": {},
   "outputs": [],
   "source": [
    "class PredictionCallback(Callback):\n",
    "    \n",
    "    def on_predict_begin(self, logs=None):\n",
    "        print(\"Predictions Started....\")\n",
    "    \n",
    "    def on_predict_batch_begin(self, batch, logs=None):\n",
    "        print(f\"Predicting: Starting Batch: {batch}\")\n",
    "        \n",
    "    def on_predict_batch_end(self, batch, logs=None):\n",
    "        print(f\"Predicting: Finished Batch: {batch}\")\n",
    "        \n",
    "    def on_predict_end(self, logs=None):\n",
    "        print(\"Predicting Finished!!\")"
   ]
  },
  {
   "cell_type": "code",
   "execution_count": 31,
   "metadata": {},
   "outputs": [
    {
     "name": "stdout",
     "output_type": "stream",
     "text": [
      "Predictions Started....\n",
      "Predicting: Starting Batch: 0\n",
      "Predicting: Finished Batch: 0\n",
      "Predicting: Starting Batch: 1\n",
      "Predicting: Finished Batch: 1\n",
      "Predicting Finished!!\n"
     ]
    },
    {
     "data": {
      "text/plain": [
       "array([[0.01425195],\n",
       "       [0.01698173],\n",
       "       [0.01599823],\n",
       "       [0.01441217],\n",
       "       [0.0134451 ],\n",
       "       [0.01505692],\n",
       "       [0.01222451],\n",
       "       [0.01365995],\n",
       "       [0.0092686 ],\n",
       "       [0.00789643],\n",
       "       [0.0135112 ],\n",
       "       [0.01195922],\n",
       "       [0.0155863 ],\n",
       "       [0.01574984],\n",
       "       [0.01315708],\n",
       "       [0.0134835 ],\n",
       "       [0.0065397 ],\n",
       "       [0.00997737],\n",
       "       [0.01568118],\n",
       "       [0.01168897],\n",
       "       [0.01175144],\n",
       "       [0.01199317],\n",
       "       [0.01591979],\n",
       "       [0.01432977],\n",
       "       [0.00974269],\n",
       "       [0.01551799],\n",
       "       [0.009859  ],\n",
       "       [0.01298338],\n",
       "       [0.01547111],\n",
       "       [0.01090178],\n",
       "       [0.01498992],\n",
       "       [0.01126603],\n",
       "       [0.00993753],\n",
       "       [0.01476096],\n",
       "       [0.01242235],\n",
       "       [0.01906316],\n",
       "       [0.00886912],\n",
       "       [0.01646204],\n",
       "       [0.01432179],\n",
       "       [0.01796918],\n",
       "       [0.01301918],\n",
       "       [0.01609957],\n",
       "       [0.00809359],\n",
       "       [0.0127612 ],\n",
       "       [0.01487774]], dtype=float32)"
      ]
     },
     "execution_count": 31,
     "metadata": {},
     "output_type": "execute_result"
    }
   ],
   "source": [
    "# Make predictions with the model\n",
    "\n",
    "model.predict(test_data, verbose=False, callbacks=[PredictionCallback()])"
   ]
  },
  {
   "cell_type": "markdown",
   "metadata": {},
   "source": [
    "***\n",
    "<a id=\"coding_tutorial_4\"></a>\n",
    "## Early stopping / patience"
   ]
  },
  {
   "cell_type": "markdown",
   "metadata": {},
   "source": [
    "#### Re-train the models with early stopping"
   ]
  },
  {
   "cell_type": "code",
   "execution_count": 44,
   "metadata": {},
   "outputs": [],
   "source": [
    "# Re-train the unregularised model\n",
    "\n",
    "unregularised_model = get_model()\n",
    "unregularised_model.compile(optimizer=\"adam\", loss=\"mse\")\n",
    "\n",
    "from tensorflow.keras.callbacks import EarlyStopping\n",
    "\n",
    "unreg_history = unregularised_model.fit(train_data, train_labels, epochs=100, batch_size=64, verbose=False,\n",
    "                                        validation_split=0.15, callbacks=[EarlyStopping(patience=3)])"
   ]
  },
  {
   "cell_type": "code",
   "execution_count": 45,
   "metadata": {},
   "outputs": [
    {
     "data": {
      "text/plain": [
       "0.48263845841089886"
      ]
     },
     "execution_count": 45,
     "metadata": {},
     "output_type": "execute_result"
    }
   ],
   "source": [
    "# Evaluate the model on the test set\n",
    "\n",
    "unregularised_model.evaluate(test_data, test_labels, verbose=False)"
   ]
  },
  {
   "cell_type": "code",
   "execution_count": 46,
   "metadata": {},
   "outputs": [],
   "source": [
    "# Re-train the regularised model\n",
    "\n",
    "regularised_model = get_regularised_model(1e-5,0.5)\n",
    "regularised_model.compile(optimizer='adam', loss=\"mse\")\n",
    "\n",
    "reg_history = regularised_model.fit(train_data, train_labels, epochs=100, batch_size=64, verbose=False,\n",
    "                                     validation_split=0.15, callbacks=[EarlyStopping(patience=3)])"
   ]
  },
  {
   "cell_type": "code",
   "execution_count": 47,
   "metadata": {},
   "outputs": [
    {
     "name": "stdout",
     "output_type": "stream",
     "text": [
      "45/1 - 0s - loss: 0.5610\n"
     ]
    },
    {
     "data": {
      "text/plain": [
       "0.49446488353941176"
      ]
     },
     "execution_count": 47,
     "metadata": {},
     "output_type": "execute_result"
    }
   ],
   "source": [
    "# Evaluate the model on the test set\n",
    "\n",
    "regularised_model.evaluate(test_data, test_labels, verbose=2)"
   ]
  },
  {
   "cell_type": "markdown",
   "metadata": {},
   "source": [
    "#### Plot the learning curves"
   ]
  },
  {
   "cell_type": "code",
   "execution_count": 48,
   "metadata": {},
   "outputs": [
    {
     "data": {
      "image/png": "[encoded data removed]",
      "text/plain": [
       "<Figure size 864x360 with 2 Axes>"
      ]
     },
     "metadata": {
      "needs_background": "light"
     },
     "output_type": "display_data"
    }
   ],
   "source": [
    "# Plot the training and validation loss\n",
    "\n",
    "import matplotlib.pyplot as plt\n",
    "\n",
    "fig = plt.figure(figsize=(12, 5))\n",
    "\n",
    "fig.add_subplot(121)\n",
    "\n",
    "plt.plot(unreg_history.history['loss'])\n",
    "plt.plot(unreg_history.history['val_loss'])\n",
    "plt.title('Unregularised model: loss vs. epochs')\n",
    "plt.ylabel('Loss')\n",
    "plt.xlabel('Epoch')\n",
    "plt.legend(['Training', 'Validation'], loc='upper right')\n",
    "\n",
    "fig.add_subplot(122)\n",
    "\n",
    "plt.plot(reg_history.history['loss'])\n",
    "plt.plot(reg_history.history['val_loss'])\n",
    "plt.title('Regularised model: loss vs. epochs')\n",
    "plt.ylabel('Loss')\n",
    "plt.xlabel('Epoch')\n",
    "plt.legend(['Training', 'Validation'], loc='upper right')\n",
    "\n",
    "plt.show()"
   ]
  }
 ],
 "metadata": {
  "kernelspec": {
   "display_name": "Python 3",
   "language": "python",
   "name": "python3"
  },
  "language_info": {
   "codemirror_mode": {
    "name": "ipython",
    "version": 3
   },
   "file_extension": ".py",
   "mimetype": "text/x-python",
   "name": "python",
   "nbconvert_exporter": "python",
   "pygments_lexer": "ipython3",
   "version": "3.8.5"
  }
 },
 "nbformat": 4,
 "nbformat_minor": 2
}
